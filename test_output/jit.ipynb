{
 "cells": [
  {
   "cell_type": "code",
   "execution_count": 1,
   "metadata": {},
   "outputs": [],
   "source": [
    "    import torchvision\n",
    "    import torch\n",
    "    from time import perf_counter\n",
    "    import numpy as np\n",
    "\n",
    "    def timer(f,*args):   \n",
    "        start = perf_counter()\n",
    "        f(*args)\n",
    "        return (1000 * (perf_counter() - start))"
   ]
  },
  {
   "cell_type": "code",
   "execution_count": 3,
   "metadata": {},
   "outputs": [
    {
     "name": "stderr",
     "output_type": "stream",
     "text": [
      "Using cache found in C:\\Users\\Berne/.cache\\torch\\hub\\NVIDIA_DeepLearningExamples_torchhub\n"
     ]
    },
    {
     "name": "stdout",
     "output_type": "stream",
     "text": [
      "cpu avg (100 runs): 214.632\n"
     ]
    },
    {
     "name": "stderr",
     "output_type": "stream",
     "text": [
      "c:\\Users\\Berne\\AppData\\Local\\Programs\\Python\\Python311\\Lib\\site-packages\\torch\\jit\\_script.py:1291: UserWarning: `optimize` is deprecated and has no effect. Use `with torch.jit.optimized_execution() instead\n",
      "  warnings.warn(\n"
     ]
    },
    {
     "name": "stdout",
     "output_type": "stream",
     "text": [
      "cpu avg jit (100 runs): 180.808\n"
     ]
    }
   ],
   "source": [
    "model_ft = torch.hub.load('NVIDIA/DeepLearningExamples:torchhub', 'nvidia_resnet50', pretrained=True)\n",
    "model_ft.eval()\n",
    "x_ft = torch.rand(1,3, 224,224)\n",
    "print(f\"cpu avg (100 runs): {np.mean([timer(model_ft,x_ft) for _ in range(100)]):0.3f}\")\n",
    "\n",
    "\n",
    "script_cell = torch.jit.script(model_ft, (x_ft))\n",
    "print(f\"cpu avg jit (100 runs): {np.mean([timer(script_cell,x_ft) for _ in range(100)]):0.3f}\")"
   ]
  }
 ],
 "metadata": {
  "kernelspec": {
   "display_name": "Python 3",
   "language": "python",
   "name": "python3"
  },
  "language_info": {
   "codemirror_mode": {
    "name": "ipython",
    "version": 3
   },
   "file_extension": ".py",
   "mimetype": "text/x-python",
   "name": "python",
   "nbconvert_exporter": "python",
   "pygments_lexer": "ipython3",
   "version": "3.11.8"
  }
 },
 "nbformat": 4,
 "nbformat_minor": 2
}
