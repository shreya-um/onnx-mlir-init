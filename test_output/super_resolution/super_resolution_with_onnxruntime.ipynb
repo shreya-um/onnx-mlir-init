{
  "cells": [
    {
      "cell_type": "code",
      "execution_count": 1,
      "metadata": {
        "id": "rFWn9JlVR7-b"
      },
      "outputs": [],
      "source": [
        "# For tips on running notebooks in Google Colab, see\n",
        "# https://pytorch.org/tutorials/beginner/colab\n",
        "%matplotlib inline"
      ]
    },
    {
      "cell_type": "markdown",
      "metadata": {
        "id": "sRPgvXu-R7-k"
      },
      "source": [
        "(optional) Exporting a Model from PyTorch to ONNX and Running it using ONNX Runtime\n",
        "===================================================================================\n",
        "\n",
        "<div style=\"background-color: #54c7ec; color: #fff; font-weight: 700; padding-left: 10px; padding-top: 5px; padding-bottom: 5px\"><strong>NOTE:</strong></div>\n",
        "<div style=\"background-color: #f3f4f7; padding-left: 10px; padding-top: 10px; padding-bottom: 10px; padding-right: 10px\">\n",
        "<p>As of PyTorch 2.1, there are two versions of ONNX Exporter.</p>\n",
        "</div>\n",
        "\n",
        "In this tutorial, we describe how to convert a model defined in PyTorch\n",
        "into the ONNX format using the TorchScript\n",
        "[\\`torch.onnx.export]{.title-ref} ONNX exporter.\n",
        "\n",
        "The exported model will be executed with ONNX Runtime. ONNX Runtime is a\n",
        "performance-focused engine for ONNX models, which inferences efficiently\n",
        "across multiple platforms and hardware (Windows, Linux, and Mac and on\n",
        "both CPUs and GPUs). ONNX Runtime has proved to considerably increase\n",
        "performance over multiple models as explained\n",
        "[here](https://cloudblogs.microsoft.com/opensource/2019/05/22/onnx-runtime-machine-learning-inferencing-0-4-release)\n",
        "\n",
        "For this tutorial, you will need to install\n",
        "[ONNX](https://github.com/onnx/onnx) and [ONNX\n",
        "Runtime](https://github.com/microsoft/onnxruntime). You can get binary\n",
        "builds of ONNX and ONNX Runtime with\n",
        "\n",
        "``` {.sourceCode .bash}\n",
        "%%bash\n",
        "pip install onnx onnxruntime\n",
        "```\n",
        "\n",
        "ONNX Runtime recommends using the latest stable runtime for PyTorch.\n"
      ]
    },
    {
      "cell_type": "code",
      "execution_count": 2,
      "metadata": {
        "colab": {
          "base_uri": "https://localhost:8080/"
        },
        "id": "Ua4gtthyTZEk",
        "outputId": "be3a5512-9f19-4eac-c308-769319d70f3e"
      },
      "outputs": [
        {
          "name": "stdout",
          "output_type": "stream",
          "text": [
            "Requirement already satisfied: onnx in c:\\users\\berne\\appdata\\local\\programs\\python\\python311\\lib\\site-packages (1.16.0)\n",
            "Requirement already satisfied: onnxruntime in c:\\users\\berne\\appdata\\local\\programs\\python\\python311\\lib\\site-packages (1.17.3)\n",
            "Requirement already satisfied: numpy>=1.20 in c:\\users\\berne\\appdata\\local\\programs\\python\\python311\\lib\\site-packages (from onnx) (1.26.4)\n",
            "Requirement already satisfied: protobuf>=3.20.2 in c:\\users\\berne\\appdata\\local\\programs\\python\\python311\\lib\\site-packages (from onnx) (4.25.3)\n",
            "Requirement already satisfied: coloredlogs in c:\\users\\berne\\appdata\\local\\programs\\python\\python311\\lib\\site-packages (from onnxruntime) (15.0.1)\n",
            "Requirement already satisfied: flatbuffers in c:\\users\\berne\\appdata\\local\\programs\\python\\python311\\lib\\site-packages (from onnxruntime) (24.3.25)\n",
            "Requirement already satisfied: packaging in c:\\users\\berne\\appdata\\roaming\\python\\python311\\site-packages (from onnxruntime) (24.0)\n",
            "Requirement already satisfied: sympy in c:\\users\\berne\\appdata\\local\\programs\\python\\python311\\lib\\site-packages (from onnxruntime) (1.12)\n",
            "Requirement already satisfied: humanfriendly>=9.1 in c:\\users\\berne\\appdata\\local\\programs\\python\\python311\\lib\\site-packages (from coloredlogs->onnxruntime) (10.0)\n",
            "Requirement already satisfied: mpmath>=0.19 in c:\\users\\berne\\appdata\\local\\programs\\python\\python311\\lib\\site-packages (from sympy->onnxruntime) (1.3.0)\n",
            "Requirement already satisfied: pyreadline3 in c:\\users\\berne\\appdata\\local\\programs\\python\\python311\\lib\\site-packages (from humanfriendly>=9.1->coloredlogs->onnxruntime) (3.4.1)\n",
            "Note: you may need to restart the kernel to use updated packages.\n"
          ]
        }
      ],
      "source": [
        "%pip install onnx onnxruntime"
      ]
    },
    {
      "cell_type": "code",
      "execution_count": 3,
      "metadata": {
        "id": "lAl9MD2dR7-p"
      },
      "outputs": [],
      "source": [
        "# Some standard imports\n",
        "import numpy as np\n",
        "\n",
        "from torch import nn\n",
        "import torch.utils.model_zoo as model_zoo\n",
        "import torch.onnx"
      ]
    },
    {
      "cell_type": "markdown",
      "metadata": {
        "id": "EvczqTpUR7-q"
      },
      "source": [
        "Super-resolution is a way of increasing the resolution of images, videos\n",
        "and is widely used in image processing or video editing. For this\n",
        "tutorial, we will use a small super-resolution model.\n",
        "\n",
        "First, let\\'s create a `SuperResolution` model in PyTorch. This model\n",
        "uses the efficient sub-pixel convolution layer described in [\\\"Real-Time\n",
        "Single Image and Video Super-Resolution Using an Efficient Sub-Pixel\n",
        "Convolutional Neural Network\\\" - Shi et\n",
        "al](https://arxiv.org/abs/1609.05158) for increasing the resolution of\n",
        "an image by an upscale factor. The model expects the Y component of the\n",
        "`YCbCr` of an image as an input, and outputs the upscaled Y component in\n",
        "super resolution.\n",
        "\n",
        "[The\n",
        "model](https://github.com/pytorch/examples/blob/master/super_resolution/model.py)\n",
        "comes directly from PyTorch\\'s examples without modification:\n"
      ]
    },
    {
      "cell_type": "code",
      "execution_count": 4,
      "metadata": {
        "id": "qYt0WE7FR7-r"
      },
      "outputs": [],
      "source": [
        "# Super Resolution model definition in PyTorch\n",
        "import torch.nn as nn\n",
        "import torch.nn.init as init\n",
        "\n",
        "\n",
        "class SuperResolutionNet(nn.Module):\n",
        "    def __init__(self, upscale_factor, inplace=False):\n",
        "        super(SuperResolutionNet, self).__init__()\n",
        "\n",
        "        self.relu = nn.ReLU(inplace=inplace)\n",
        "        self.conv1 = nn.Conv2d(1, 64, (5, 5), (1, 1), (2, 2))\n",
        "        self.conv2 = nn.Conv2d(64, 64, (3, 3), (1, 1), (1, 1))\n",
        "        self.conv3 = nn.Conv2d(64, 32, (3, 3), (1, 1), (1, 1))\n",
        "        self.conv4 = nn.Conv2d(32, upscale_factor ** 2, (3, 3), (1, 1), (1, 1))\n",
        "        self.pixel_shuffle = nn.PixelShuffle(upscale_factor)\n",
        "\n",
        "        self._initialize_weights()\n",
        "\n",
        "    def forward(self, x):\n",
        "        x = self.relu(self.conv1(x))\n",
        "        x = self.relu(self.conv2(x))\n",
        "        x = self.relu(self.conv3(x))\n",
        "        x = self.pixel_shuffle(self.conv4(x))\n",
        "        return x\n",
        "\n",
        "    def _initialize_weights(self):\n",
        "        init.orthogonal_(self.conv1.weight, init.calculate_gain('relu'))\n",
        "        init.orthogonal_(self.conv2.weight, init.calculate_gain('relu'))\n",
        "        init.orthogonal_(self.conv3.weight, init.calculate_gain('relu'))\n",
        "        init.orthogonal_(self.conv4.weight)\n",
        "\n",
        "# Create the super-resolution model by using the above model definition.\n",
        "torch_model = SuperResolutionNet(upscale_factor=3)"
      ]
    },
    {
      "cell_type": "markdown",
      "metadata": {
        "id": "PbxyeDh6R7-s"
      },
      "source": [
        "Ordinarily, you would now train this model; however, for this tutorial,\n",
        "we will instead download some pretrained weights. Note that this model\n",
        "was not trained fully for good accuracy and is used here for\n",
        "demonstration purposes only.\n",
        "\n",
        "It is important to call `torch_model.eval()` or\n",
        "`torch_model.train(False)` before exporting the model, to turn the model\n",
        "to inference mode. This is required since operators like dropout or\n",
        "batchnorm behave differently in inference and training mode.\n"
      ]
    },
    {
      "cell_type": "code",
      "execution_count": 5,
      "metadata": {
        "colab": {
          "base_uri": "https://localhost:8080/"
        },
        "id": "PBa4PNXWR7-u",
        "outputId": "48f7f409-cb58-4e3e-a091-1db681a5716b"
      },
      "outputs": [
        {
          "name": "stderr",
          "output_type": "stream",
          "text": [
            "Downloading: \"https://s3.amazonaws.com/pytorch/test_data/export/superres_epoch100-44c6958e.pth\" to C:\\Users\\Berne/.cache\\torch\\hub\\checkpoints\\superres_epoch100-44c6958e.pth\n",
            "100.0%\n"
          ]
        },
        {
          "data": {
            "text/plain": [
              "SuperResolutionNet(\n",
              "  (relu): ReLU()\n",
              "  (conv1): Conv2d(1, 64, kernel_size=(5, 5), stride=(1, 1), padding=(2, 2))\n",
              "  (conv2): Conv2d(64, 64, kernel_size=(3, 3), stride=(1, 1), padding=(1, 1))\n",
              "  (conv3): Conv2d(64, 32, kernel_size=(3, 3), stride=(1, 1), padding=(1, 1))\n",
              "  (conv4): Conv2d(32, 9, kernel_size=(3, 3), stride=(1, 1), padding=(1, 1))\n",
              "  (pixel_shuffle): PixelShuffle(upscale_factor=3)\n",
              ")"
            ]
          },
          "execution_count": 5,
          "metadata": {},
          "output_type": "execute_result"
        }
      ],
      "source": [
        "# Load pretrained model weights\n",
        "model_url = 'https://s3.amazonaws.com/pytorch/test_data/export/superres_epoch100-44c6958e.pth'\n",
        "batch_size = 1    # just a random number\n",
        "\n",
        "# Initialize model with the pretrained weights\n",
        "map_location = lambda storage, loc: storage\n",
        "if torch.cuda.is_available():\n",
        "    map_location = None\n",
        "torch_model.load_state_dict(model_zoo.load_url(model_url, map_location=map_location))\n",
        "\n",
        "# set the model to inference mode\n",
        "torch_model.eval()"
      ]
    },
    {
      "cell_type": "markdown",
      "metadata": {
        "id": "heU-gYRPR7-v"
      },
      "source": [
        "Exporting a model in PyTorch works via tracing or scripting. This\n",
        "tutorial will use as an example a model exported by tracing. To export a\n",
        "model, we call the `torch.onnx.export()` function. This will execute the\n",
        "model, recording a trace of what operators are used to compute the\n",
        "outputs. Because `export` runs the model, we need to provide an input\n",
        "tensor `x`. The values in this can be random as long as it is the right\n",
        "type and size. Note that the input size will be fixed in the exported\n",
        "ONNX graph for all the input\\'s dimensions, unless specified as a\n",
        "dynamic axes. In this example we export the model with an input of\n",
        "batch\\_size 1, but then specify the first dimension as dynamic in the\n",
        "`dynamic_axes` parameter in `torch.onnx.export()`. The exported model\n",
        "will thus accept inputs of size \\[batch\\_size, 1, 224, 224\\] where\n",
        "batch\\_size can be variable.\n",
        "\n",
        "To learn more details about PyTorch\\'s export interface, check out the\n",
        "[torch.onnx documentation](https://pytorch.org/docs/master/onnx.html).\n"
      ]
    },
    {
      "cell_type": "code",
      "execution_count": 6,
      "metadata": {
        "id": "e3jp0XEoR7-x"
      },
      "outputs": [],
      "source": [
        "# Input to the model\n",
        "x = torch.randn(batch_size, 1, 224, 224, requires_grad=True)\n",
        "torch_out = torch_model(x)\n",
        "\n",
        "# Export the model\n",
        "torch.onnx.export(torch_model,               # model being run\n",
        "                  x,                         # model input (or a tuple for multiple inputs)\n",
        "                  \"super_resolution.onnx\",   # where to save the model (can be a file or file-like object)\n",
        "                  export_params=True,        # store the trained parameter weights inside the model file\n",
        "                  opset_version=10,          # the ONNX version to export the model to\n",
        "                  do_constant_folding=True,  # whether to execute constant folding for optimization\n",
        "                  input_names = ['input'],   # the model's input names\n",
        "                  output_names = ['output'], # the model's output names\n",
        "                  dynamic_axes={'input' : {0 : 'batch_size'},    # variable length axes\n",
        "                                'output' : {0 : 'batch_size'}})"
      ]
    },
    {
      "cell_type": "markdown",
      "metadata": {
        "id": "s8zGoNISR7-y"
      },
      "source": [
        "We also computed `torch_out`, the output after of the model, which we\n",
        "will use to verify that the model we exported computes the same values\n",
        "when run in ONNX Runtime.\n",
        "\n",
        "But before verifying the model\\'s output with ONNX Runtime, we will\n",
        "check the ONNX model with ONNX API. First,\n",
        "`onnx.load(\"super_resolution.onnx\")` will load the saved model and will\n",
        "output a `onnx.ModelProto` structure (a top-level file/container format\n",
        "for bundling a ML model. For more information [onnx.proto\n",
        "documentation](https://github.com/onnx/onnx/blob/master/onnx/onnx.proto).).\n",
        "Then, `onnx.checker.check_model(onnx_model)` will verify the model\\'s\n",
        "structure and confirm that the model has a valid schema. The validity of\n",
        "the ONNX graph is verified by checking the model\\'s version, the\n",
        "graph\\'s structure, as well as the nodes and their inputs and outputs.\n"
      ]
    },
    {
      "cell_type": "code",
      "execution_count": 7,
      "metadata": {
        "id": "YfECvoKIR7-z"
      },
      "outputs": [],
      "source": [
        "import onnx\n",
        "\n",
        "onnx_model = onnx.load(\"super_resolution.onnx\")\n",
        "onnx.checker.check_model(onnx_model)"
      ]
    },
    {
      "cell_type": "markdown",
      "metadata": {
        "id": "CManRbMmR7-0"
      },
      "source": [
        "Now let\\'s compute the output using ONNX Runtime\\'s Python APIs. This\n",
        "part can normally be done in a separate process or on another machine,\n",
        "but we will continue in the same process so that we can verify that ONNX\n",
        "Runtime and PyTorch are computing the same value for the network.\n",
        "\n",
        "In order to run the model with ONNX Runtime, we need to create an\n",
        "inference session for the model with the chosen configuration parameters\n",
        "(here we use the default config). Once the session is created, we\n",
        "evaluate the model using the run() API. The output of this call is a\n",
        "list containing the outputs of the model computed by ONNX Runtime.\n"
      ]
    },
    {
      "cell_type": "code",
      "execution_count": 8,
      "metadata": {
        "colab": {
          "base_uri": "https://localhost:8080/"
        },
        "id": "_TmfeSCmR7-0",
        "outputId": "a9d4e1a5-3685-413b-d196-839e4c05f338"
      },
      "outputs": [
        {
          "name": "stdout",
          "output_type": "stream",
          "text": [
            "Exported model has been tested with ONNXRuntime, and the result looks good!\n"
          ]
        }
      ],
      "source": [
        "import onnxruntime\n",
        "\n",
        "ort_session = onnxruntime.InferenceSession(\"super_resolution.onnx\", providers=[\"CPUExecutionProvider\"])\n",
        "\n",
        "def to_numpy(tensor):\n",
        "    return tensor.detach().cpu().numpy() if tensor.requires_grad else tensor.cpu().numpy()\n",
        "\n",
        "# compute ONNX Runtime output prediction\n",
        "ort_inputs = {ort_session.get_inputs()[0].name: to_numpy(x)}\n",
        "ort_outs = ort_session.run(None, ort_inputs)\n",
        "\n",
        "# compare ONNX Runtime and PyTorch results\n",
        "np.testing.assert_allclose(to_numpy(torch_out), ort_outs[0], rtol=1e-03, atol=1e-05)\n",
        "\n",
        "print(\"Exported model has been tested with ONNXRuntime, and the result looks good!\")"
      ]
    },
    {
      "cell_type": "markdown",
      "metadata": {
        "id": "aAuHUPllR7-1"
      },
      "source": [
        "We should see that the output of PyTorch and ONNX Runtime runs match\n",
        "numerically with the given precision (`rtol=1e-03` and `atol=1e-05`). As\n",
        "a side-note, if they do not match then there is an issue in the ONNX\n",
        "exporter, so please contact us in that case.\n"
      ]
    },
    {
      "cell_type": "markdown",
      "metadata": {
        "id": "CZk4fiThR7-2"
      },
      "source": [
        "Running the model on an image using ONNX Runtime\n",
        "================================================\n"
      ]
    },
    {
      "cell_type": "markdown",
      "metadata": {
        "id": "qW947X28R7-2"
      },
      "source": [
        "So far we have exported a model from PyTorch and shown how to load it\n",
        "and run it in ONNX Runtime with a dummy tensor as an input.\n"
      ]
    },
    {
      "cell_type": "markdown",
      "metadata": {
        "id": "hTq8YibgR7-3"
      },
      "source": [
        "For this tutorial, we will use a famous cat image used widely which\n",
        "looks like below\n",
        "\n",
        "![](https://pytorch.org/tutorials/_static/img/cat_224x224.jpg)\n"
      ]
    },
    {
      "cell_type": "markdown",
      "metadata": {
        "id": "gcfzST0MR7-3"
      },
      "source": [
        "First, let\\'s load the image, preprocess it using standard PIL python\n",
        "library. Note that this preprocessing is the standard practice of\n",
        "processing data for training/testing neural networks.\n",
        "\n",
        "We first resize the image to fit the size of the model\\'s input\n",
        "(224x224). Then we split the image into its Y, Cb, and Cr components.\n",
        "These components represent a grayscale image (Y), and the\n",
        "blue-difference (Cb) and red-difference (Cr) chroma components. The Y\n",
        "component being more sensitive to the human eye, we are interested in\n",
        "this component which we will be transforming. After extracting the Y\n",
        "component, we convert it to a tensor which will be the input of our\n",
        "model.\n"
      ]
    },
    {
      "cell_type": "code",
      "execution_count": 9,
      "metadata": {
        "colab": {
          "base_uri": "https://localhost:8080/"
        },
        "id": "e6DgetibUA6u",
        "outputId": "6058edde-3052-4d97-f64c-5838e3ce59bc"
      },
      "outputs": [
        {
          "name": "stderr",
          "output_type": "stream",
          "text": [
            "'wget' is not recognized as an internal or external command,\n",
            "operable program or batch file.\n"
          ]
        }
      ],
      "source": [
        "! wget \"https://pytorch.org/tutorials/_static/img/cat_224x224.jpg\" -O cat.jpg"
      ]
    },
    {
      "cell_type": "code",
      "execution_count": 11,
      "metadata": {
        "colab": {
          "base_uri": "https://localhost:8080/"
        },
        "id": "5-aG5EdsR7-3",
        "outputId": "5d5b86ed-f109-4733-ff90-ce552a3fb4d5"
      },
      "outputs": [
        {
          "data": {
            "text/plain": [
              "tensor([[[[0.2157, 0.1961, 0.1922,  ..., 0.5294, 0.5569, 0.5686],\n",
              "          [0.2039, 0.1961, 0.1922,  ..., 0.5333, 0.5569, 0.5686],\n",
              "          [0.1961, 0.1843, 0.1843,  ..., 0.5216, 0.5412, 0.5490],\n",
              "          ...,\n",
              "          [0.6667, 0.6745, 0.6392,  ..., 0.6902, 0.6667, 0.6078],\n",
              "          [0.6392, 0.6431, 0.6235,  ..., 0.8000, 0.7608, 0.6745],\n",
              "          [0.6392, 0.6353, 0.6510,  ..., 0.8118, 0.7686, 0.6667]]]])"
            ]
          },
          "execution_count": 11,
          "metadata": {},
          "output_type": "execute_result"
        }
      ],
      "source": [
        "from PIL import Image\n",
        "import torchvision.transforms as transforms\n",
        "\n",
        "img = Image.open(\"./cat.jpg\")\n",
        "\n",
        "resize = transforms.Resize([224, 224])\n",
        "img = resize(img)\n",
        "\n",
        "img_ycbcr = img.convert('YCbCr')\n",
        "img_y, img_cb, img_cr = img_ycbcr.split()\n",
        "\n",
        "to_tensor = transforms.ToTensor()\n",
        "img_y = to_tensor(img_y)\n",
        "img_y.unsqueeze_(0)"
      ]
    },
    {
      "cell_type": "markdown",
      "metadata": {
        "id": "Go31Ev0pR7-4"
      },
      "source": [
        "Now, as a next step, let\\'s take the tensor representing the grayscale\n",
        "resized cat image and run the super-resolution model in ONNX Runtime as\n",
        "explained previously.\n"
      ]
    },
    {
      "cell_type": "code",
      "execution_count": 12,
      "metadata": {
        "id": "B7DA6EykR7-5"
      },
      "outputs": [],
      "source": [
        "ort_inputs = {ort_session.get_inputs()[0].name: to_numpy(img_y)}\n",
        "ort_outs = ort_session.run(None, ort_inputs)\n",
        "img_out_y = ort_outs[0]"
      ]
    },
    {
      "cell_type": "markdown",
      "metadata": {
        "id": "hSiRRykWR7-6"
      },
      "source": [
        "At this point, the output of the model is a tensor. Now, we\\'ll process\n",
        "the output of the model to construct back the final output image from\n",
        "the output tensor, and save the image. The post-processing steps have\n",
        "been adopted from PyTorch implementation of super-resolution model\n",
        "[here](https://github.com/pytorch/examples/blob/master/super_resolution/super_resolve.py).\n"
      ]
    },
    {
      "cell_type": "code",
      "execution_count": 13,
      "metadata": {
        "id": "EjcbQKzuR7-6"
      },
      "outputs": [],
      "source": [
        "img_out_y = Image.fromarray(np.uint8((img_out_y[0] * 255.0).clip(0, 255)[0]), mode='L')\n",
        "\n",
        "# get the output image follow post-processing step from PyTorch implementation\n",
        "final_img = Image.merge(\n",
        "    \"YCbCr\", [\n",
        "        img_out_y,\n",
        "        img_cb.resize(img_out_y.size, Image.BICUBIC),\n",
        "        img_cr.resize(img_out_y.size, Image.BICUBIC),\n",
        "    ]).convert(\"RGB\")\n",
        "\n",
        "# Save the image, we will compare this with the output image from mobile device\n",
        "final_img.save(\"./cat_superres_with_ort.jpg\")"
      ]
    },
    {
      "cell_type": "markdown",
      "metadata": {
        "id": "DSjXVTydR7-7"
      },
      "source": [
        "![](https://pytorch.org/tutorials/_static/img/cat_superres_with_ort.jpg)\n",
        "\n",
        "ONNX Runtime being a cross platform engine, you can run it across\n",
        "multiple platforms and on both CPUs and GPUs.\n",
        "\n",
        "ONNX Runtime can also be deployed to the cloud for model inferencing\n",
        "using Azure Machine Learning Services. More information\n",
        "[here](https://docs.microsoft.com/en-us/azure/machine-learning/service/concept-onnx).\n",
        "\n",
        "More information about ONNX Runtime\\'s performance\n",
        "[here](https://github.com/microsoft/onnxruntime#high-performance).\n",
        "\n",
        "For more information about ONNX Runtime\n",
        "[here](https://github.com/microsoft/onnxruntime).\n"
      ]
    }
  ],
  "metadata": {
    "colab": {
      "provenance": []
    },
    "kernelspec": {
      "display_name": "Python 3",
      "language": "python",
      "name": "python3"
    },
    "language_info": {
      "codemirror_mode": {
        "name": "ipython",
        "version": 3
      },
      "file_extension": ".py",
      "mimetype": "text/x-python",
      "name": "python",
      "nbconvert_exporter": "python",
      "pygments_lexer": "ipython3",
      "version": "3.11.8"
    }
  },
  "nbformat": 4,
  "nbformat_minor": 0
}
