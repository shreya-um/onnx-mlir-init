{
 "cells": [
  {
   "cell_type": "code",
   "execution_count": 2,
   "metadata": {},
   "outputs": [
    {
     "name": "stderr",
     "output_type": "stream",
     "text": [
      "Using cache found in C:\\Users\\Berne/.cache\\torch\\hub\\mateuszbuda_brain-segmentation-pytorch_master\n"
     ]
    }
   ],
   "source": [
    "import torch\n",
    "model = torch.hub.load('mateuszbuda/brain-segmentation-pytorch', 'unet',\n",
    "    in_channels=3, out_channels=1, init_features=32, pretrained=True)"
   ]
  },
  {
   "cell_type": "code",
   "execution_count": 3,
   "metadata": {},
   "outputs": [],
   "source": [
    "# Download an example image\n",
    "import urllib\n",
    "url, filename = (\"https://github.com/mateuszbuda/brain-segmentation-pytorch/raw/master/assets/TCGA_CS_4944.png\", \"TCGA_CS_4944.png\")\n",
    "try: urllib.URLopener().retrieve(url, filename)\n",
    "except: urllib.request.urlretrieve(url, filename)"
   ]
  },
  {
   "cell_type": "code",
   "execution_count": 4,
   "metadata": {},
   "outputs": [],
   "source": [
    "def timer(model, input, n):\n",
    "    for i in range(n):\n",
    "        startTime = time.time()\n",
    "        output_py = model(input)\n",
    "        stopTime = time.time()\n",
    "        time_py = stopTime - startTime\n",
    "        print(f\"{time_py * 1000:0.3f}\")"
   ]
  },
  {
   "cell_type": "code",
   "execution_count": 5,
   "metadata": {},
   "outputs": [
    {
     "name": "stdout",
     "output_type": "stream",
     "text": [
      "528.513\n",
      "352.194\n",
      "433.007\n",
      "444.059\n",
      "493.149\n",
      "460.658\n"
     ]
    }
   ],
   "source": [
    "import numpy as np\n",
    "from PIL import Image\n",
    "from torchvision import transforms\n",
    "import matplotlib.pyplot as plt\n",
    "import time\n",
    "\n",
    "\n",
    "input_image_py = Image.open(filename)\n",
    "m, s = np.mean(input_image_py, axis=(0, 1)), np.std(input_image_py, axis=(0, 1))\n",
    "preprocess = transforms.Compose([\n",
    "    transforms.ToTensor(),\n",
    "    transforms.Normalize(mean=m, std=s),\n",
    "])\n",
    "input_tensor = preprocess(input_image_py)\n",
    "input_batch = input_tensor.unsqueeze(0)\n",
    "\n",
    "if torch.cuda.is_available():\n",
    "    input_batch = input_batch.to('cuda')\n",
    "    model = model.to('cuda')\n",
    "\n",
    "with torch.no_grad():\n",
    "    timer(model, input_batch, 6)"
   ]
  },
  {
   "cell_type": "code",
   "execution_count": null,
   "metadata": {},
   "outputs": [],
   "source": [
    "import cv2\n",
    "\n",
    "input_image_py = np.array(input_image_py)\n",
    "\n",
    "output_img_py = torch.round(output_py[0][0]).detach().numpy()\n",
    "output_image_py = np.zeros((255,255,3))\n",
    "for row_nr in range(0, 255):\n",
    "    for col_nr in range(0, 255):\n",
    "        output_image_py[row_nr][col_nr] = (input_image_py[row_nr][col_nr] * output_img_py[row_nr][col_nr])\n"
   ]
  },
  {
   "cell_type": "code",
   "execution_count": null,
   "metadata": {},
   "outputs": [],
   "source": [
    "# for row in input_image_py:\n",
    "#     for pix in row:\n",
    "#         for val in pix:\n",
    "#             print(f\"{val},\", end=\"\")"
   ]
  },
  {
   "cell_type": "code",
   "execution_count": null,
   "metadata": {},
   "outputs": [],
   "source": [
    "input_image_cpp = input_image_py\n",
    "\n",
    "# import numpy as np\n",
    "# input_array_cpp = []\n",
    "# with open(\"../bin/input_img.txt\", \"r\")  as my_file:\n",
    "#     data_line = my_file.readline()\n",
    "#     for val in data_line.split(\",\"):\n",
    "#         if val == \"\":\n",
    "#             continue\n",
    "#         input_array_cpp.append(int(np.round(float(val))))\n",
    "\n",
    "# input_image_cpp = np.array(input_array_cpp).reshape((256, 256, 3))"
   ]
  },
  {
   "cell_type": "code",
   "execution_count": null,
   "metadata": {},
   "outputs": [],
   "source": [
    "import numpy as np\n",
    "\n",
    "output_array_cpp = []\n",
    "with open(\"../bin/unet.output.txt\", \"r\")  as my_file:\n",
    "    time_line = my_file.readline()\n",
    "    time_cpp = float(time_line)\n",
    "    print(time_cpp)\n",
    "    line = my_file.readline()\n",
    "    for val in line.split(\",\"):\n",
    "        if val == \"\":\n",
    "            continue\n",
    "        output_array_cpp.append(int(np.round(float(val))))\n",
    "\n",
    "mask_cpp = np.array(output_array_cpp).reshape((256, 256))\n"
   ]
  },
  {
   "cell_type": "code",
   "execution_count": null,
   "metadata": {},
   "outputs": [],
   "source": [
    "input_image_cpp = np.array(input_image_cpp)\n",
    "\n",
    "\n",
    "output_image_cpp = np.zeros((255,255,3))\n",
    "for row_nr in range(0, 255):\n",
    "    for col_nr in range(0, 255):\n",
    "        output_image_cpp[row_nr][col_nr] = (input_image_cpp[row_nr][col_nr] * mask_cpp[row_nr][col_nr])"
   ]
  },
  {
   "cell_type": "code",
   "execution_count": null,
   "metadata": {},
   "outputs": [],
   "source": [
    "# import torch\n",
    "# import onnxruntime as ort\n",
    "\n",
    "# model = torch.hub.load('mateuszbuda/brain-segmentation-pytorch', 'unet',\n",
    "#         in_channels=3, out_channels=1, init_features=32, pretrained=True)\n",
    "\n",
    "# # print(torch.__config__.show())\n",
    "# # print(model)\n",
    "# model.eval()\n",
    "# input_image_pyonnxx = torch.randn(1, 3, 256, 256)\n",
    "# input_image_pyonnxx = input_image_py\n",
    "# input_tensor = preprocess(input_image_py).reshape(1, 3, 256, 256)\n",
    "\n",
    "\n",
    "# onnx_program = torch.onnx.export(model, input_tensor, \"unet.onnx\")\n",
    "# onnx_program.save(\"unet.onnx\")\n",
    "\n",
    "\n",
    "# ort_sess = ort.InferenceSession(\"unet.onnx\")\n",
    "\n",
    "# mask_pyonnxx = np.round(np.array(ort_sess.run(None, {'input.1': input_tensor.numpy()})).reshape((256, 256)))\n",
    "# print(mask_pyonnxx)"
   ]
  },
  {
   "cell_type": "code",
   "execution_count": null,
   "metadata": {},
   "outputs": [],
   "source": [
    "# input_image_pyonnxx = np.array(input_image_pyonnxx).reshape((256, 256, 3))\n",
    "\n",
    "# output_image_pyonnxx = np.zeros((255,255,3))\n",
    "# for row_nr in range(0, 255):\n",
    "#     for col_nr in range(0, 255):\n",
    "#         output_image_pyonnxx[row_nr][col_nr] = (input_image_pyonnxx[row_nr][col_nr] * mask_pyonnxx[row_nr][col_nr])"
   ]
  },
  {
   "cell_type": "code",
   "execution_count": null,
   "metadata": {},
   "outputs": [],
   "source": [
    "import matplotlib.pyplot as plt\n",
    "\n",
    "\n",
    "fig, ax = plt.subplots(3, 3)\n",
    "fig.set_figwidth(16)\n",
    "fig.set_figheight(12)\n",
    "\n",
    "ax[0][0].imshow(input_image_py.astype('uint8'))\n",
    "ax[0][0].set_title(\"py input img\")\n",
    "ax[0][1].imshow(output_img_py.astype('uint8'))\n",
    "ax[0][1].set_title(\"py output\")\n",
    "ax[0][2].imshow(output_image_py.astype('uint8'))\n",
    "ax[0][2].set_title(\"py output as mask over input img\")\n",
    "\n",
    "ax[1][0].imshow(input_image_cpp.astype('uint8'))\n",
    "ax[1][0].set_title(\"cpp input img\")\n",
    "ax[1][1].imshow(mask_cpp.astype('uint8'))\n",
    "ax[1][1].set_title(\"cpp mask\")\n",
    "ax[1][2].imshow(output_image_cpp.astype('uint8'))\n",
    "ax[1][2].set_title(\"cpp output as mask over input img\")\n",
    "\n",
    "# ax[2][0].imshow(input_image_pyonnxx.astype('uint8'))\n",
    "# ax[2][0].set_title(\"py onnx input image\")\n",
    "# ax[2][1].imshow(mask_pyonnxx.astype('uint8'))\n",
    "# ax[2][1].set_title(\"py onnx mask\")\n",
    "# ax[2][2].imshow(output_image_pyonnxx.astype('uint8'))\n",
    "# ax[2][2].set_title(\"py onnx output as mask over input img\")\n",
    "\n",
    "print(f\"python finished in {time_py} seconds\")\n",
    "print(f\"cpp finished in {time_cpp / 10e9} seconds\")\n",
    "print(f\"python onnx finished in {None} seconds\")"
   ]
  }
 ],
 "metadata": {
  "kernelspec": {
   "display_name": "Python 3",
   "language": "python",
   "name": "python3"
  },
  "language_info": {
   "codemirror_mode": {
    "name": "ipython",
    "version": 3
   },
   "file_extension": ".py",
   "mimetype": "text/x-python",
   "name": "python",
   "nbconvert_exporter": "python",
   "pygments_lexer": "ipython3",
   "version": "3.11.8"
  }
 },
 "nbformat": 4,
 "nbformat_minor": 2
}
